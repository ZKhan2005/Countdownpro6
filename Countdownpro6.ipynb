{
  "nbformat": 4,
  "nbformat_minor": 0,
  "metadata": {
    "colab": {
      "provenance": []
    },
    "kernelspec": {
      "name": "python3",
      "display_name": "Python 3"
    },
    "language_info": {
      "name": "python"
    }
  },
  "cells": [
    {
      "cell_type": "markdown",
      "source": [
        "# **Project 6 : Countdown Timer in Python**"
      ],
      "metadata": {
        "id": "5phGaH_jaz_s"
      }
    },
    {
      "cell_type": "code",
      "source": [
        "#Project 6 : Count Down Timer In Python\n",
        "\n",
        "\n",
        "import time\n",
        "def countdown_timer(time_in_seconds):\n",
        "    while time_in_seconds:\n",
        "        mins, secs = divmod(time_in_seconds, 60)\n",
        "        timeformat = '{:02d}:{:02d}'.format(mins, secs)\n",
        "        print(timeformat, end='\\r')\n",
        "        time.sleep(1)\n",
        "        time_in_seconds -= 1\n",
        "    print(\"00:00 \\n Time's up!\")\n",
        "total_seconds = int(input(\"Enter the time in seconds for countdown: \"))\n",
        "countdown_timer(total_seconds)\n"
      ],
      "metadata": {
        "colab": {
          "base_uri": "https://localhost:8080/"
        },
        "id": "NF_ZWmUsa_SH",
        "outputId": "ad9b857c-a5b0-4dfb-afd9-04338eff5a63"
      },
      "execution_count": 1,
      "outputs": [
        {
          "output_type": "stream",
          "name": "stdout",
          "text": [
            "Enter the time in seconds for countdown: 40\n",
            "00:00 \n",
            " Time's up!\n"
          ]
        }
      ]
    }
  ]
}